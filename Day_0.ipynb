{
 "cells": [
  {
   "cell_type": "markdown",
   "metadata": {},
   "source": [
    "# - Part 1 ) What can we do with Python?\n",
    "\n",
    "### *Education*\n",
    "Data Analysis/Visualization using Pandas, Matplotlib, ...  \n",
    "Deep Learning using TensorFlow, PyTorch, ...  \n",
    "Web Development using Django, Flask, ...  \n",
    "Mobile Device Software Program using Raspberry Pi, ...  \n",
    "Network Programming using Socket, ...  \n",
    "Make Game using Pygame, ...  \n",
    "Make Macro Program using PyAutoGUI, ...  "
   ]
  },
  {
   "cell_type": "markdown",
   "metadata": {},
   "source": [
    "# - Part 2 ) Top-Down v.s Bottom-Up\n",
    "\n",
    "### *Top-Down : Fill theoretical base while building a project*\n",
    "Bottom-Up : Study theoretical base first and apply to project"
   ]
  },
  {
   "cell_type": "markdown",
   "metadata": {},
   "source": [
    "# - Part 3 ) Environment Setup\n",
    "\n",
    "### *1. Develop Environment : [Google Colab](https://colab.research.google.com/)*\n",
    "### *2. Algorithm Site : [Programmers](https://programmers.co.kr/learn/challenges)*"
   ]
  }
 ],
 "metadata": {
  "kernelspec": {
   "display_name": "py_36",
   "language": "python",
   "name": "py_36"
  },
  "language_info": {
   "codemirror_mode": {
    "name": "ipython",
    "version": 3
   },
   "file_extension": ".py",
   "mimetype": "text/x-python",
   "name": "python",
   "nbconvert_exporter": "python",
   "pygments_lexer": "ipython3",
   "version": "3.6.9"
  }
 },
 "nbformat": 4,
 "nbformat_minor": 2
}

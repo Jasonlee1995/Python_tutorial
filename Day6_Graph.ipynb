{
 "cells": [
  {
   "cell_type": "markdown",
   "metadata": {},
   "source": [
    "# Graph"
   ]
  },
  {
   "cell_type": "markdown",
   "metadata": {},
   "source": [
    "## 1. Graph Basic"
   ]
  },
  {
   "cell_type": "markdown",
   "metadata": {},
   "source": [
    "### - Graph\n",
    "- Vertex + Edge\n",
    "\n",
    "### - Type\n",
    "- Directed Graph  \n",
    "![Directed Graph](Images/graph_0.png)\n",
    "\n",
    "|Directed Graph|A|B|C|\n",
    "|:------------:|-|-|-|\n",
    "|**A**|0|1|1|\n",
    "|**B**|1|0|1|\n",
    "|**C**|0|0|0|\n",
    "\n",
    "- Undirected Graph  \n",
    "![Undirected Graph](Images/graph_1.png)\n",
    "\n",
    "|Undirected Graph|A|B|C|\n",
    "|:--------------:|-|-|-|\n",
    "|**A**|0|1|1|\n",
    "|**B**|1|0|0|\n",
    "|**C**|1|0|0|"
   ]
  },
  {
   "cell_type": "markdown",
   "metadata": {},
   "source": [
    "### - Expression\n",
    "![Undirected Graph](Images/graph_1.png)"
   ]
  },
  {
   "cell_type": "code",
   "execution_count": 1,
   "metadata": {},
   "outputs": [
    {
     "data": {
      "text/plain": [
       "{0: [1, 2], 1: [0], 2: [0]}"
      ]
     },
     "execution_count": 1,
     "metadata": {},
     "output_type": "execute_result"
    }
   ],
   "source": [
    "# Matrix\n",
    "[[0, 1, 1],\n",
    " [1, 0, 0],\n",
    " [1, 0, 0]]\n",
    "\n",
    "# Dictionary + List\n",
    "{0 : [1, 2],\n",
    " 1 : [0],\n",
    " 2 : [0]}\n",
    "\n",
    "# Use Class"
   ]
  },
  {
   "cell_type": "markdown",
   "metadata": {},
   "source": [
    "![Weighted Graph](Images/graph_2.png)"
   ]
  },
  {
   "cell_type": "code",
   "execution_count": 2,
   "metadata": {},
   "outputs": [
    {
     "data": {
      "text/plain": [
       "{0: {1: 2, 2: 3}, 1: {2: 4}}"
      ]
     },
     "execution_count": 2,
     "metadata": {},
     "output_type": "execute_result"
    }
   ],
   "source": [
    "# Weighted Matrix\n",
    "[[0, 2, 3],\n",
    " [0, 0, 4],\n",
    " [0, 0, 0]]\n",
    "\n",
    "# Weighted Dictionary + List\n",
    "{0 : {1: 2, 2: 3},\n",
    " 1 : {2: 4}}\n",
    "\n",
    "# Use Class"
   ]
  },
  {
   "cell_type": "markdown",
   "metadata": {},
   "source": [
    "## 2. BFS/DFS"
   ]
  },
  {
   "cell_type": "markdown",
   "metadata": {},
   "source": [
    "![Graph](Images/graph_3.png)"
   ]
  },
  {
   "cell_type": "markdown",
   "metadata": {},
   "source": [
    "- Assume starts at A position\n",
    "\n",
    "![Graph](Images/graph_4.png)"
   ]
  },
  {
   "cell_type": "code",
   "execution_count": 3,
   "metadata": {},
   "outputs": [],
   "source": [
    "# Matrix\n",
    "graph_matrix = [[0, 1, 1, 0, 0, 0, 0],\n",
    "                [1, 0, 0, 1, 1, 0, 0],\n",
    "                [1, 0, 0, 0, 0, 1, 1],\n",
    "                [0, 1, 0, 0, 0, 0, 0],\n",
    "                [0, 1, 0, 0, 0, 0, 0],\n",
    "                [0, 0, 1, 0, 0, 0, 0],\n",
    "                [0, 0, 1, 0, 0, 0, 0]]\n",
    "\n",
    "# Dictionary + List\n",
    "graph_dic = {\n",
    "    0 : [1, 2],\n",
    "    1 : [0, 3, 4],\n",
    "    2 : [0, 5, 6],\n",
    "    3 : [1],\n",
    "    4 : [1],\n",
    "    5 : [2],\n",
    "    6 : [2]\n",
    "}\n",
    "\n",
    "# Use Class\n",
    "class Node():\n",
    "    def __init__(self, val):\n",
    "        self.val = val\n",
    "        self.neighbors = list()\n",
    "        \n",
    "class Graph():\n",
    "    def __init__(self, node_info):\n",
    "        self.node_info = {node : Node(node) for node in node_info}\n",
    "    \n",
    "    def build(self, connection_info):\n",
    "        for node1, node2 in connection_info:\n",
    "            self.node_info[node1].neighbors.append(self.node_info[node2])\n",
    "            self.node_info[node2].neighbors.append(self.node_info[node1])\n",
    "\n",
    "\n",
    "test_case = [['A', 'B'], ['A', 'C'], ['B', 'D'], ['B', 'E'], ['C', 'F'], ['C', 'G']]"
   ]
  },
  {
   "cell_type": "markdown",
   "metadata": {},
   "source": [
    "### - BFS : Breadth First Search\n",
    "\n",
    "- A\n",
    "- B C\n",
    "- D E F G\n",
    "- [[A, B, D], [A, B, E], [A, C, F], [A, C, G]]"
   ]
  },
  {
   "cell_type": "markdown",
   "metadata": {},
   "source": [
    "- BFS using Python standard library (collections.deque)"
   ]
  },
  {
   "cell_type": "code",
   "execution_count": 4,
   "metadata": {},
   "outputs": [],
   "source": [
    "from collections import deque"
   ]
  },
  {
   "cell_type": "code",
   "execution_count": 5,
   "metadata": {},
   "outputs": [
    {
     "name": "stdout",
     "output_type": "stream",
     "text": [
      "deque([1, 2, 3, 4, 5])\n"
     ]
    }
   ],
   "source": [
    "# Define deque\n",
    "queue = deque([1, 2, 3, 4, 5])\n",
    "print(queue)"
   ]
  },
  {
   "cell_type": "code",
   "execution_count": 6,
   "metadata": {},
   "outputs": [
    {
     "name": "stdout",
     "output_type": "stream",
     "text": [
      "deque([1, 2, 3, 4, 5, 6])\n"
     ]
    }
   ],
   "source": [
    "# Method : .append( )\n",
    "queue.append(6)\n",
    "print(queue)"
   ]
  },
  {
   "cell_type": "code",
   "execution_count": 7,
   "metadata": {},
   "outputs": [
    {
     "name": "stdout",
     "output_type": "stream",
     "text": [
      "deque([0, 1, 2, 3, 4, 5, 6])\n"
     ]
    }
   ],
   "source": [
    "# Method : .appendleft( )\n",
    "queue.appendleft(0)\n",
    "print(queue)"
   ]
  },
  {
   "cell_type": "code",
   "execution_count": 8,
   "metadata": {},
   "outputs": [
    {
     "name": "stdout",
     "output_type": "stream",
     "text": [
      "deque([0, 1, 2, 3, 4, 5])\n"
     ]
    }
   ],
   "source": [
    "# Method : .pop( )\n",
    "queue.pop()\n",
    "print(queue)"
   ]
  },
  {
   "cell_type": "code",
   "execution_count": 9,
   "metadata": {},
   "outputs": [
    {
     "name": "stdout",
     "output_type": "stream",
     "text": [
      "deque([1, 2, 3, 4, 5])\n"
     ]
    }
   ],
   "source": [
    "# Method : .popleft( )\n",
    "queue.popleft()\n",
    "print(queue)"
   ]
  },
  {
   "cell_type": "markdown",
   "metadata": {},
   "source": [
    "### - DFS : Depth First Search\n",
    "\n",
    "- A B D\n",
    "- A B E\n",
    "- A C F\n",
    "- A C G\n",
    "- [[A, B, D], [A, B, E], [A, C, F], [A, C, G]]"
   ]
  }
 ],
 "metadata": {
  "kernelspec": {
   "display_name": "py_36",
   "language": "python",
   "name": "py_36"
  },
  "language_info": {
   "codemirror_mode": {
    "name": "ipython",
    "version": 3
   },
   "file_extension": ".py",
   "mimetype": "text/x-python",
   "name": "python",
   "nbconvert_exporter": "python",
   "pygments_lexer": "ipython3",
   "version": "3.6.10"
  }
 },
 "nbformat": 4,
 "nbformat_minor": 2
}

{
 "cells": [
  {
   "cell_type": "markdown",
   "metadata": {},
   "source": [
    "# Graph Answer"
   ]
  },
  {
   "cell_type": "code",
   "execution_count": 1,
   "metadata": {},
   "outputs": [],
   "source": [
    "test_case = [['A', 'B'], ['A', 'C'], ['B', 'D'], ['B', 'E'], ['C', 'F'], ['C', 'G']]"
   ]
  },
  {
   "cell_type": "markdown",
   "metadata": {},
   "source": [
    "## 1. BFS"
   ]
  },
  {
   "cell_type": "markdown",
   "metadata": {},
   "source": [
    "### 1.1 Matrix"
   ]
  },
  {
   "cell_type": "code",
   "execution_count": 2,
   "metadata": {},
   "outputs": [],
   "source": [
    "def bfs_matrix(test_case):\n",
    "    vertex = set()\n",
    "    for nodes in test_case:\n",
    "        vertex.update(nodes)\n",
    "    vertex = sorted(vertex)\n",
    "    vertex2int = {vertex[i]:i for i in range(len(vertex))}\n",
    "    int2vertex = {i:vertex[i] for i in range(len(vertex))}\n",
    "    print(vertex)\n",
    "    print(vertex2int)\n",
    "    print(int2vertex)\n",
    "    print()\n",
    "    \n",
    "    matrix = [[0]*len(vertex) for _ in range(len(vertex))]\n",
    "    for node1, node2 in test_case:\n",
    "        matrix[vertex2int[node1]][vertex2int[node2]] = 1\n",
    "        matrix[vertex2int[node2]][vertex2int[node1]] = 1\n",
    "    for i in range(len(matrix)):\n",
    "        print(matrix[i])\n",
    "    print()\n",
    "    \n",
    "    answer = list()\n",
    "    queue = [[vertex2int['A']]]\n",
    "    visit = list()\n",
    "    while queue:\n",
    "        path = queue[0]\n",
    "        queue = queue[1:]\n",
    "        print([int2vertex[i] for i in path])\n",
    "        visit.append(path[-1])\n",
    "        add_path = list()\n",
    "        for i in range(len(matrix[path[-1]])):\n",
    "            if (matrix[path[-1]][i] == 1) and (i not in visit):\n",
    "                add_path.append(path+[i])\n",
    "        if len(add_path) == 0:\n",
    "            answer.append([int2vertex[i] for i in path])\n",
    "        else:\n",
    "            queue += add_path\n",
    "            \n",
    "    return answer"
   ]
  },
  {
   "cell_type": "code",
   "execution_count": 3,
   "metadata": {},
   "outputs": [
    {
     "name": "stdout",
     "output_type": "stream",
     "text": [
      "['A', 'B', 'C', 'D', 'E', 'F', 'G']\n",
      "{'A': 0, 'B': 1, 'C': 2, 'D': 3, 'E': 4, 'F': 5, 'G': 6}\n",
      "{0: 'A', 1: 'B', 2: 'C', 3: 'D', 4: 'E', 5: 'F', 6: 'G'}\n",
      "\n",
      "[0, 1, 1, 0, 0, 0, 0]\n",
      "[1, 0, 0, 1, 1, 0, 0]\n",
      "[1, 0, 0, 0, 0, 1, 1]\n",
      "[0, 1, 0, 0, 0, 0, 0]\n",
      "[0, 1, 0, 0, 0, 0, 0]\n",
      "[0, 0, 1, 0, 0, 0, 0]\n",
      "[0, 0, 1, 0, 0, 0, 0]\n",
      "\n",
      "['A']\n",
      "['A', 'B']\n",
      "['A', 'C']\n",
      "['A', 'B', 'D']\n",
      "['A', 'B', 'E']\n",
      "['A', 'C', 'F']\n",
      "['A', 'C', 'G']\n"
     ]
    },
    {
     "data": {
      "text/plain": [
       "[['A', 'B', 'D'], ['A', 'B', 'E'], ['A', 'C', 'F'], ['A', 'C', 'G']]"
      ]
     },
     "execution_count": 3,
     "metadata": {},
     "output_type": "execute_result"
    }
   ],
   "source": [
    "bfs_matrix(test_case)"
   ]
  },
  {
   "cell_type": "markdown",
   "metadata": {},
   "source": [
    "### 1.2 Dictionary + List"
   ]
  },
  {
   "cell_type": "code",
   "execution_count": 4,
   "metadata": {},
   "outputs": [],
   "source": [
    "def bfs_dic(test_case):\n",
    "    vertex = set()\n",
    "    for nodes in test_case:\n",
    "        vertex.update(nodes)\n",
    "    vertex = sorted(vertex)\n",
    "    vertex2int = {vertex[i]:i for i in range(len(vertex))}\n",
    "    int2vertex = {i:vertex[i] for i in range(len(vertex))}\n",
    "    print(vertex)\n",
    "    print(vertex2int)\n",
    "    print(int2vertex)\n",
    "    print()\n",
    "    \n",
    "    edge = dict()\n",
    "    for node1, node2 in test_case:\n",
    "        if vertex2int[node1] not in edge: edge[vertex2int[node1]] = list()\n",
    "        if vertex2int[node2] not in edge: edge[vertex2int[node2]] = list()\n",
    "        edge[vertex2int[node1]].append(vertex2int[node2])\n",
    "        edge[vertex2int[node2]].append(vertex2int[node1])\n",
    "    print(edge)\n",
    "    print()\n",
    "    \n",
    "    answer = list()\n",
    "    queue = [[vertex2int['A']]]\n",
    "    visit = list()\n",
    "    while queue:\n",
    "        path = queue[0]\n",
    "        queue = queue[1:]\n",
    "        print([int2vertex[i] for i in path])\n",
    "        visit.append(path[-1])\n",
    "        add_path = list()\n",
    "        for node in edge[path[-1]]:\n",
    "            if node not in visit:\n",
    "                add_path.append(path+[node])\n",
    "        if len(add_path) == 0:\n",
    "            answer.append([int2vertex[i] for i in path])\n",
    "        else:\n",
    "            queue += add_path\n",
    "            \n",
    "    return answer"
   ]
  },
  {
   "cell_type": "code",
   "execution_count": 5,
   "metadata": {},
   "outputs": [
    {
     "name": "stdout",
     "output_type": "stream",
     "text": [
      "['A', 'B', 'C', 'D', 'E', 'F', 'G']\n",
      "{'A': 0, 'B': 1, 'C': 2, 'D': 3, 'E': 4, 'F': 5, 'G': 6}\n",
      "{0: 'A', 1: 'B', 2: 'C', 3: 'D', 4: 'E', 5: 'F', 6: 'G'}\n",
      "\n",
      "{0: [1, 2], 1: [0, 3, 4], 2: [0, 5, 6], 3: [1], 4: [1], 5: [2], 6: [2]}\n",
      "\n",
      "['A']\n",
      "['A', 'B']\n",
      "['A', 'C']\n",
      "['A', 'B', 'D']\n",
      "['A', 'B', 'E']\n",
      "['A', 'C', 'F']\n",
      "['A', 'C', 'G']\n"
     ]
    },
    {
     "data": {
      "text/plain": [
       "[['A', 'B', 'D'], ['A', 'B', 'E'], ['A', 'C', 'F'], ['A', 'C', 'G']]"
      ]
     },
     "execution_count": 5,
     "metadata": {},
     "output_type": "execute_result"
    }
   ],
   "source": [
    "bfs_dic(test_case)"
   ]
  },
  {
   "cell_type": "markdown",
   "metadata": {},
   "source": [
    "### 1.3 Class"
   ]
  },
  {
   "cell_type": "code",
   "execution_count": 6,
   "metadata": {},
   "outputs": [],
   "source": [
    "class Node():\n",
    "    def __init__(self, val):\n",
    "        self.val = val\n",
    "        self.neighbors = list()\n",
    "        \n",
    "class Graph():\n",
    "    def __init__(self, node_info):\n",
    "        self.node_info = {node : Node(node) for node in node_info}\n",
    "    \n",
    "    def build(self, connection_info):\n",
    "        for node1, node2 in connection_info:\n",
    "            self.node_info[node1].neighbors.append(self.node_info[node2])\n",
    "            self.node_info[node2].neighbors.append(self.node_info[node1])\n",
    "            \n",
    "def bfs_class(test_case):\n",
    "    vertex = set()\n",
    "    for nodes in test_case:\n",
    "        vertex.update(nodes)\n",
    "    vertex = sorted(vertex)\n",
    "    \n",
    "    graph = Graph(vertex)\n",
    "    graph.build(test_case)\n",
    "    \n",
    "    answer = list()\n",
    "    queue = [['A']]\n",
    "    visit = list()\n",
    "    while queue:\n",
    "        path = queue[0]\n",
    "        queue = queue[1:]\n",
    "        print(path)\n",
    "        visit.append(path[-1])\n",
    "        add_path = list()\n",
    "        for node in graph.node_info[path[-1]].neighbors:\n",
    "            if node.val not in visit:\n",
    "                add_path.append(path+[node.val])\n",
    "        if len(add_path) == 0:\n",
    "            answer.append(path)\n",
    "        else:\n",
    "            queue += add_path\n",
    "            \n",
    "    return answer"
   ]
  },
  {
   "cell_type": "code",
   "execution_count": 7,
   "metadata": {},
   "outputs": [
    {
     "name": "stdout",
     "output_type": "stream",
     "text": [
      "['A']\n",
      "['A', 'B']\n",
      "['A', 'C']\n",
      "['A', 'B', 'D']\n",
      "['A', 'B', 'E']\n",
      "['A', 'C', 'F']\n",
      "['A', 'C', 'G']\n"
     ]
    },
    {
     "data": {
      "text/plain": [
       "[['A', 'B', 'D'], ['A', 'B', 'E'], ['A', 'C', 'F'], ['A', 'C', 'G']]"
      ]
     },
     "execution_count": 7,
     "metadata": {},
     "output_type": "execute_result"
    }
   ],
   "source": [
    "bfs_class(test_case)"
   ]
  }
 ],
 "metadata": {
  "kernelspec": {
   "display_name": "py_36",
   "language": "python",
   "name": "py_36"
  },
  "language_info": {
   "codemirror_mode": {
    "name": "ipython",
    "version": 3
   },
   "file_extension": ".py",
   "mimetype": "text/x-python",
   "name": "python",
   "nbconvert_exporter": "python",
   "pygments_lexer": "ipython3",
   "version": "3.6.10"
  }
 },
 "nbformat": 4,
 "nbformat_minor": 2
}

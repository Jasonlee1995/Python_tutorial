{
 "cells": [
  {
   "cell_type": "markdown",
   "metadata": {},
   "source": [
    "# Sorting Answer"
   ]
  },
  {
   "cell_type": "code",
   "execution_count": 1,
   "metadata": {},
   "outputs": [],
   "source": [
    "import random\n",
    "random.seed(0)"
   ]
  },
  {
   "cell_type": "code",
   "execution_count": 2,
   "metadata": {},
   "outputs": [],
   "source": [
    "def CheckError(sort_function):\n",
    "    print('{} Algorithm in Test'.format(str(sort_function).split()[1]))\n",
    "    error = 0\n",
    "    for i in range(1000):\n",
    "        test_case = random.sample(range(15), 15)\n",
    "        if sorted(test_case) != sort_function(test_case):\n",
    "            print('*' * 40)\n",
    "            print('Error in {} case'.format(i))\n",
    "            print('Test Case : {}'.format(test_case))\n",
    "            error += 1\n",
    "    print(error)"
   ]
  },
  {
   "cell_type": "code",
   "execution_count": 3,
   "metadata": {},
   "outputs": [],
   "source": [
    "test = [6, 3, 2, 4, 1, 5]"
   ]
  },
  {
   "cell_type": "markdown",
   "metadata": {},
   "source": [
    "## 1. Selection Sort"
   ]
  },
  {
   "cell_type": "code",
   "execution_count": 4,
   "metadata": {},
   "outputs": [],
   "source": [
    "def SelectionSort(test_case):\n",
    "    answer = test_case.copy()\n",
    "    for i in range(len(answer)-1):\n",
    "        min_info = (answer[i], i)\n",
    "        for j in range(i+1, len(answer)):\n",
    "            if answer[j] < min_info[0]:\n",
    "                min_info = [answer[j], j]\n",
    "        answer[i], answer[min_info[1]] = answer[min_info[1]], answer[i]\n",
    "    return answer"
   ]
  },
  {
   "cell_type": "code",
   "execution_count": 5,
   "metadata": {},
   "outputs": [
    {
     "name": "stdout",
     "output_type": "stream",
     "text": [
      "SelectionSort Algorithm in Test\n",
      "0\n"
     ]
    }
   ],
   "source": [
    "CheckError(SelectionSort)"
   ]
  },
  {
   "cell_type": "code",
   "execution_count": 6,
   "metadata": {},
   "outputs": [],
   "source": [
    "def SelectionSort_print(test_case):\n",
    "    answer = test_case.copy()\n",
    "    for i in range(len(answer)-1):\n",
    "        min_info = (answer[i], i)\n",
    "        for j in range(i+1, len(answer)):\n",
    "            if answer[j] < min_info[0]:\n",
    "                min_info = [answer[j], j]\n",
    "        answer[i], answer[min_info[1]] = answer[min_info[1]], answer[i]\n",
    "        print(answer)\n",
    "    return answer"
   ]
  },
  {
   "cell_type": "code",
   "execution_count": 7,
   "metadata": {},
   "outputs": [
    {
     "name": "stdout",
     "output_type": "stream",
     "text": [
      "[1, 3, 2, 4, 6, 5]\n",
      "[1, 2, 3, 4, 6, 5]\n",
      "[1, 2, 3, 4, 6, 5]\n",
      "[1, 2, 3, 4, 6, 5]\n",
      "[1, 2, 3, 4, 5, 6]\n"
     ]
    },
    {
     "data": {
      "text/plain": [
       "[1, 2, 3, 4, 5, 6]"
      ]
     },
     "execution_count": 7,
     "metadata": {},
     "output_type": "execute_result"
    }
   ],
   "source": [
    "SelectionSort_print(test)"
   ]
  },
  {
   "cell_type": "markdown",
   "metadata": {},
   "source": [
    "## 2. Insertion Sort"
   ]
  },
  {
   "cell_type": "code",
   "execution_count": 8,
   "metadata": {},
   "outputs": [],
   "source": [
    "def InsertionSort(test_case):\n",
    "    answer = test_case.copy()\n",
    "    for i in range(1, len(answer)):\n",
    "        value = answer[i]\n",
    "        j = i-1\n",
    "        while (j >= 0) and (value < answer[j]):\n",
    "            answer[j+1] = answer[j]\n",
    "            j -= 1\n",
    "        answer[j+1] = value\n",
    "    return answer"
   ]
  },
  {
   "cell_type": "code",
   "execution_count": 9,
   "metadata": {},
   "outputs": [
    {
     "name": "stdout",
     "output_type": "stream",
     "text": [
      "InsertionSort Algorithm in Test\n",
      "0\n"
     ]
    }
   ],
   "source": [
    "CheckError(InsertionSort)"
   ]
  },
  {
   "cell_type": "code",
   "execution_count": 10,
   "metadata": {},
   "outputs": [],
   "source": [
    "def InsertionSort_print(test_case):\n",
    "    answer = test_case.copy()\n",
    "    for i in range(1, len(answer)):\n",
    "        value = answer[i]\n",
    "        j = i-1\n",
    "        while (j >= 0) and (value < answer[j]):\n",
    "            answer[j+1] = answer[j]\n",
    "            j -= 1\n",
    "        answer[j+1] = value\n",
    "        print(answer)\n",
    "    return answer"
   ]
  },
  {
   "cell_type": "code",
   "execution_count": 11,
   "metadata": {},
   "outputs": [
    {
     "name": "stdout",
     "output_type": "stream",
     "text": [
      "[3, 6, 2, 4, 1, 5]\n",
      "[2, 3, 6, 4, 1, 5]\n",
      "[2, 3, 4, 6, 1, 5]\n",
      "[1, 2, 3, 4, 6, 5]\n",
      "[1, 2, 3, 4, 5, 6]\n"
     ]
    },
    {
     "data": {
      "text/plain": [
       "[1, 2, 3, 4, 5, 6]"
      ]
     },
     "execution_count": 11,
     "metadata": {},
     "output_type": "execute_result"
    }
   ],
   "source": [
    "InsertionSort_print(test)"
   ]
  },
  {
   "cell_type": "markdown",
   "metadata": {},
   "source": [
    "## 3. Bubble Sort"
   ]
  },
  {
   "cell_type": "code",
   "execution_count": 12,
   "metadata": {},
   "outputs": [],
   "source": [
    "def BubbleSort(test_case):\n",
    "    answer = test_case.copy()\n",
    "    for i in range(len(answer)):\n",
    "        for j in range(len(answer)-i-1):\n",
    "            if answer[j] > answer[j+1]:\n",
    "                answer[j], answer[j+1] = answer[j+1], answer[j]\n",
    "    return answer"
   ]
  },
  {
   "cell_type": "code",
   "execution_count": 13,
   "metadata": {},
   "outputs": [
    {
     "name": "stdout",
     "output_type": "stream",
     "text": [
      "BubbleSort Algorithm in Test\n",
      "0\n"
     ]
    }
   ],
   "source": [
    "CheckError(BubbleSort)"
   ]
  },
  {
   "cell_type": "code",
   "execution_count": 14,
   "metadata": {},
   "outputs": [],
   "source": [
    "def BubbleSort_print(test_case):\n",
    "    answer = test_case.copy()\n",
    "    for i in range(len(answer)):\n",
    "        for j in range(len(answer)-i-1):\n",
    "            if answer[j] > answer[j+1]:\n",
    "                answer[j], answer[j+1] = answer[j+1], answer[j]\n",
    "        print(answer)\n",
    "    return answer"
   ]
  },
  {
   "cell_type": "code",
   "execution_count": 15,
   "metadata": {},
   "outputs": [
    {
     "name": "stdout",
     "output_type": "stream",
     "text": [
      "[3, 2, 4, 1, 5, 6]\n",
      "[2, 3, 1, 4, 5, 6]\n",
      "[2, 1, 3, 4, 5, 6]\n",
      "[1, 2, 3, 4, 5, 6]\n",
      "[1, 2, 3, 4, 5, 6]\n",
      "[1, 2, 3, 4, 5, 6]\n"
     ]
    },
    {
     "data": {
      "text/plain": [
       "[1, 2, 3, 4, 5, 6]"
      ]
     },
     "execution_count": 15,
     "metadata": {},
     "output_type": "execute_result"
    }
   ],
   "source": [
    "BubbleSort_print(test)"
   ]
  },
  {
   "cell_type": "markdown",
   "metadata": {},
   "source": [
    "## 4. Merge Sort"
   ]
  },
  {
   "cell_type": "code",
   "execution_count": null,
   "metadata": {},
   "outputs": [],
   "source": []
  },
  {
   "cell_type": "code",
   "execution_count": null,
   "metadata": {},
   "outputs": [],
   "source": []
  },
  {
   "cell_type": "markdown",
   "metadata": {},
   "source": [
    "## 5. Quick Sort "
   ]
  },
  {
   "cell_type": "code",
   "execution_count": null,
   "metadata": {},
   "outputs": [],
   "source": []
  },
  {
   "cell_type": "markdown",
   "metadata": {},
   "source": [
    "## 6. Heap Sort"
   ]
  },
  {
   "cell_type": "code",
   "execution_count": null,
   "metadata": {},
   "outputs": [],
   "source": []
  }
 ],
 "metadata": {
  "kernelspec": {
   "display_name": "py_36",
   "language": "python",
   "name": "py_36"
  },
  "language_info": {
   "codemirror_mode": {
    "name": "ipython",
    "version": 3
   },
   "file_extension": ".py",
   "mimetype": "text/x-python",
   "name": "python",
   "nbconvert_exporter": "python",
   "pygments_lexer": "ipython3",
   "version": "3.6.10"
  }
 },
 "nbformat": 4,
 "nbformat_minor": 2
}

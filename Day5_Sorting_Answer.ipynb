{
 "cells": [
  {
   "cell_type": "markdown",
   "metadata": {},
   "source": [
    "# Sorting Answer"
   ]
  },
  {
   "cell_type": "markdown",
   "metadata": {},
   "source": [
    "|Number|Sort Method|Time (second)|\n",
    "|:-:|:-:|:-:|\n",
    "|1|Selection Sort|110.6040|\n",
    "|2|Insertion Sort|114.8536|\n",
    "|3|Bubble Sort|252.7764|\n",
    "|4|Merge Sort|2.8260|\n",
    "|5-1|Quick Sort (Out-of-place)|2.3296|\n",
    "|5-2|Quick Sort (In-place)|3.5248|\n",
    "|6|Heap Sort|0.3210|\n",
    "|7|Python Sort (Quick Sort)|0.2219|"
   ]
  },
  {
   "cell_type": "code",
   "execution_count": 1,
   "metadata": {},
   "outputs": [],
   "source": [
    "import random\n",
    "import time\n",
    "\n",
    "random.seed(0)"
   ]
  },
  {
   "cell_type": "code",
   "execution_count": 2,
   "metadata": {},
   "outputs": [],
   "source": [
    "def CheckError(sort_function):\n",
    "    print('{} Algorithm in Test'.format(str(sort_function).split()[1]))\n",
    "    error, time_spend = 0, 0\n",
    "    for i in range(100):\n",
    "        test_case = random.sample(range(10000), 5000)\n",
    "        start_time = time.time()\n",
    "        if sorted(test_case) != sort_function(test_case):\n",
    "            print('*' * 40)\n",
    "            print('Error in {} case'.format(i))\n",
    "            print('Test Case : {}'.format(test_case))\n",
    "            error += 1\n",
    "        time_spend += time.time() - start_time\n",
    "    print('Error : {}'.format(error))\n",
    "    print('Time : {:.4f} second'.format(time_spend))"
   ]
  },
  {
   "cell_type": "code",
   "execution_count": 3,
   "metadata": {},
   "outputs": [],
   "source": [
    "test = [6, 3, 2, 4, 1, 5]"
   ]
  },
  {
   "cell_type": "markdown",
   "metadata": {},
   "source": [
    "## 1. Selection Sort"
   ]
  },
  {
   "cell_type": "code",
   "execution_count": 4,
   "metadata": {},
   "outputs": [],
   "source": [
    "def SelectionSort(test_case):\n",
    "    answer = test_case.copy()\n",
    "    for i in range(len(answer)-1):\n",
    "        min_info = (answer[i], i)\n",
    "        for j in range(i+1, len(answer)):\n",
    "            if answer[j] < min_info[0]:\n",
    "                min_info = [answer[j], j]\n",
    "        answer[i], answer[min_info[1]] = answer[min_info[1]], answer[i]\n",
    "    return answer"
   ]
  },
  {
   "cell_type": "code",
   "execution_count": 5,
   "metadata": {},
   "outputs": [
    {
     "name": "stdout",
     "output_type": "stream",
     "text": [
      "SelectionSort Algorithm in Test\n",
      "Error : 0\n",
      "Time : 110.6040 second\n"
     ]
    }
   ],
   "source": [
    "CheckError(SelectionSort)"
   ]
  },
  {
   "cell_type": "code",
   "execution_count": 6,
   "metadata": {},
   "outputs": [],
   "source": [
    "def SelectionSort_print(test_case):\n",
    "    answer = test_case.copy()\n",
    "    for i in range(len(answer)-1):\n",
    "        min_info = (answer[i], i)\n",
    "        for j in range(i+1, len(answer)):\n",
    "            if answer[j] < min_info[0]:\n",
    "                min_info = [answer[j], j]\n",
    "        answer[i], answer[min_info[1]] = answer[min_info[1]], answer[i]\n",
    "        print(answer)\n",
    "    return answer"
   ]
  },
  {
   "cell_type": "code",
   "execution_count": 7,
   "metadata": {},
   "outputs": [
    {
     "name": "stdout",
     "output_type": "stream",
     "text": [
      "[1, 3, 2, 4, 6, 5]\n",
      "[1, 2, 3, 4, 6, 5]\n",
      "[1, 2, 3, 4, 6, 5]\n",
      "[1, 2, 3, 4, 6, 5]\n",
      "[1, 2, 3, 4, 5, 6]\n"
     ]
    },
    {
     "data": {
      "text/plain": [
       "[1, 2, 3, 4, 5, 6]"
      ]
     },
     "execution_count": 7,
     "metadata": {},
     "output_type": "execute_result"
    }
   ],
   "source": [
    "SelectionSort_print(test)"
   ]
  },
  {
   "cell_type": "markdown",
   "metadata": {},
   "source": [
    "## 2. Insertion Sort"
   ]
  },
  {
   "cell_type": "code",
   "execution_count": 8,
   "metadata": {},
   "outputs": [],
   "source": [
    "def InsertionSort(test_case):\n",
    "    answer = test_case.copy()\n",
    "    for i in range(1, len(answer)):\n",
    "        value = answer[i]\n",
    "        j = i-1\n",
    "        while (j >= 0) and (value < answer[j]):\n",
    "            answer[j+1] = answer[j]\n",
    "            j -= 1\n",
    "        answer[j+1] = value\n",
    "    return answer"
   ]
  },
  {
   "cell_type": "code",
   "execution_count": 9,
   "metadata": {},
   "outputs": [
    {
     "name": "stdout",
     "output_type": "stream",
     "text": [
      "InsertionSort Algorithm in Test\n",
      "Error : 0\n",
      "Time : 114.8536 second\n"
     ]
    }
   ],
   "source": [
    "CheckError(InsertionSort)"
   ]
  },
  {
   "cell_type": "code",
   "execution_count": 10,
   "metadata": {},
   "outputs": [],
   "source": [
    "def InsertionSort_print(test_case):\n",
    "    answer = test_case.copy()\n",
    "    for i in range(1, len(answer)):\n",
    "        value = answer[i]\n",
    "        j = i-1\n",
    "        while (j >= 0) and (value < answer[j]):\n",
    "            answer[j+1] = answer[j]\n",
    "            j -= 1\n",
    "        answer[j+1] = value\n",
    "        print(answer)\n",
    "    return answer"
   ]
  },
  {
   "cell_type": "code",
   "execution_count": 11,
   "metadata": {},
   "outputs": [
    {
     "name": "stdout",
     "output_type": "stream",
     "text": [
      "[3, 6, 2, 4, 1, 5]\n",
      "[2, 3, 6, 4, 1, 5]\n",
      "[2, 3, 4, 6, 1, 5]\n",
      "[1, 2, 3, 4, 6, 5]\n",
      "[1, 2, 3, 4, 5, 6]\n"
     ]
    },
    {
     "data": {
      "text/plain": [
       "[1, 2, 3, 4, 5, 6]"
      ]
     },
     "execution_count": 11,
     "metadata": {},
     "output_type": "execute_result"
    }
   ],
   "source": [
    "InsertionSort_print(test)"
   ]
  },
  {
   "cell_type": "markdown",
   "metadata": {},
   "source": [
    "## 3. Bubble Sort"
   ]
  },
  {
   "cell_type": "code",
   "execution_count": 12,
   "metadata": {},
   "outputs": [],
   "source": [
    "def BubbleSort(test_case):\n",
    "    answer = test_case.copy()\n",
    "    for i in range(len(answer)):\n",
    "        for j in range(len(answer)-i-1):\n",
    "            if answer[j] > answer[j+1]:\n",
    "                answer[j], answer[j+1] = answer[j+1], answer[j]\n",
    "    return answer"
   ]
  },
  {
   "cell_type": "code",
   "execution_count": 13,
   "metadata": {},
   "outputs": [
    {
     "name": "stdout",
     "output_type": "stream",
     "text": [
      "BubbleSort Algorithm in Test\n",
      "Error : 0\n",
      "Time : 252.7764 second\n"
     ]
    }
   ],
   "source": [
    "CheckError(BubbleSort)"
   ]
  },
  {
   "cell_type": "code",
   "execution_count": 14,
   "metadata": {},
   "outputs": [],
   "source": [
    "def BubbleSort_print(test_case):\n",
    "    answer = test_case.copy()\n",
    "    for i in range(len(answer)):\n",
    "        for j in range(len(answer)-i-1):\n",
    "            if answer[j] > answer[j+1]:\n",
    "                answer[j], answer[j+1] = answer[j+1], answer[j]\n",
    "        print(answer)\n",
    "    return answer"
   ]
  },
  {
   "cell_type": "code",
   "execution_count": 15,
   "metadata": {},
   "outputs": [
    {
     "name": "stdout",
     "output_type": "stream",
     "text": [
      "[3, 2, 4, 1, 5, 6]\n",
      "[2, 3, 1, 4, 5, 6]\n",
      "[2, 1, 3, 4, 5, 6]\n",
      "[1, 2, 3, 4, 5, 6]\n",
      "[1, 2, 3, 4, 5, 6]\n",
      "[1, 2, 3, 4, 5, 6]\n"
     ]
    },
    {
     "data": {
      "text/plain": [
       "[1, 2, 3, 4, 5, 6]"
      ]
     },
     "execution_count": 15,
     "metadata": {},
     "output_type": "execute_result"
    }
   ],
   "source": [
    "BubbleSort_print(test)"
   ]
  },
  {
   "cell_type": "markdown",
   "metadata": {},
   "source": [
    "## 4. Merge Sort"
   ]
  },
  {
   "cell_type": "code",
   "execution_count": 16,
   "metadata": {},
   "outputs": [],
   "source": [
    "def MergeSort(test_case):\n",
    "    if len(test_case) <= 1:\n",
    "        return test_case\n",
    "    else:\n",
    "        answer = list()\n",
    "        left, right = MergeSort(test_case[:len(test_case)//2]), MergeSort(test_case[len(test_case)//2:])\n",
    "        index1, index2 = 0, 0\n",
    "        while (index1 < len(left)) and (index2 < len(right)):\n",
    "            if left[index1] < right[index2]:\n",
    "                answer.append(left[index1])\n",
    "                index1 += 1\n",
    "            else:\n",
    "                answer.append(right[index2])\n",
    "                index2 += 1\n",
    "        answer += left[index1:] + right[index2:]\n",
    "        return answer"
   ]
  },
  {
   "cell_type": "code",
   "execution_count": 17,
   "metadata": {},
   "outputs": [
    {
     "name": "stdout",
     "output_type": "stream",
     "text": [
      "MergeSort Algorithm in Test\n",
      "Error : 0\n",
      "Time : 2.8260 second\n"
     ]
    }
   ],
   "source": [
    "CheckError(MergeSort)"
   ]
  },
  {
   "cell_type": "markdown",
   "metadata": {},
   "source": [
    "## 5. Quick Sort "
   ]
  },
  {
   "cell_type": "code",
   "execution_count": 18,
   "metadata": {},
   "outputs": [],
   "source": [
    "# Out-of-place\n",
    "def QuickSort_OOP(test_case):\n",
    "    if len(test_case) <= 1:\n",
    "        return test_case\n",
    "    else:\n",
    "        pivot_idx = random.randint(0, len(test_case)-1)\n",
    "        test_case[pivot_idx], test_case[-1] = test_case[-1], test_case[pivot_idx]\n",
    "        left, right = list(), list()\n",
    "        for i in range(len(test_case)-1):\n",
    "            if test_case[i] < test_case[-1]: left.append(test_case[i])\n",
    "            else: right.append(test_case[i])\n",
    "        return QuickSort_OOP(left) + [test_case[-1]] + QuickSort_OOP(right)"
   ]
  },
  {
   "cell_type": "code",
   "execution_count": 19,
   "metadata": {},
   "outputs": [
    {
     "name": "stdout",
     "output_type": "stream",
     "text": [
      "QuickSort_OOP Algorithm in Test\n",
      "Error : 0\n",
      "Time : 2.3296 second\n"
     ]
    }
   ],
   "source": [
    "CheckError(QuickSort_OOP)"
   ]
  },
  {
   "cell_type": "code",
   "execution_count": 20,
   "metadata": {},
   "outputs": [],
   "source": [
    "# In-place\n",
    "def QuickSort_IP(test_case):\n",
    "    answer = test_case.copy()\n",
    "    def partition(start_idx, end_idx):\n",
    "        if start_idx < end_idx:\n",
    "            pivot_idx = random.randint(start_idx, end_idx)\n",
    "            answer[pivot_idx], answer[end_idx] = answer[end_idx], answer[pivot_idx]\n",
    "            left_idx = start_idx-1\n",
    "            for i in range(start_idx, end_idx):\n",
    "                if answer[i] < answer[end_idx]:\n",
    "                    answer[left_idx+1], answer[i] = answer[i], answer[left_idx+1]\n",
    "                    left_idx += 1\n",
    "            answer[left_idx+1], answer[end_idx] = answer[end_idx], answer[left_idx+1]\n",
    "            partition(start_idx, left_idx)\n",
    "            partition(left_idx+1, end_idx)\n",
    "    partition(0, len(answer)-1)\n",
    "    return answer"
   ]
  },
  {
   "cell_type": "code",
   "execution_count": 21,
   "metadata": {},
   "outputs": [
    {
     "name": "stdout",
     "output_type": "stream",
     "text": [
      "QuickSort_IP Algorithm in Test\n",
      "Error : 0\n",
      "Time : 3.5248 second\n"
     ]
    }
   ],
   "source": [
    "CheckError(QuickSort_IP)"
   ]
  },
  {
   "cell_type": "markdown",
   "metadata": {},
   "source": [
    "## 6. Heap Sort"
   ]
  },
  {
   "cell_type": "code",
   "execution_count": 22,
   "metadata": {},
   "outputs": [],
   "source": [
    "import heapq\n",
    "\n",
    "def HeapSort(test_case):\n",
    "    heap = test_case.copy()\n",
    "    heapq.heapify(heap)\n",
    "    return [heapq.heappop(heap) for _ in range(len(heap))]"
   ]
  },
  {
   "cell_type": "code",
   "execution_count": 23,
   "metadata": {},
   "outputs": [
    {
     "name": "stdout",
     "output_type": "stream",
     "text": [
      "HeapSort Algorithm in Test\n",
      "Error : 0\n",
      "Time : 0.3210 second\n"
     ]
    }
   ],
   "source": [
    "CheckError(HeapSort)"
   ]
  },
  {
   "cell_type": "markdown",
   "metadata": {},
   "source": [
    "## 7. Python Sort (Quick Sort)"
   ]
  },
  {
   "cell_type": "code",
   "execution_count": 24,
   "metadata": {},
   "outputs": [],
   "source": [
    "def PythonSort(test_case):\n",
    "    return sorted(test_case)"
   ]
  },
  {
   "cell_type": "code",
   "execution_count": 25,
   "metadata": {},
   "outputs": [
    {
     "name": "stdout",
     "output_type": "stream",
     "text": [
      "PythonSort Algorithm in Test\n",
      "Error : 0\n",
      "Time : 0.2219 second\n"
     ]
    }
   ],
   "source": [
    "CheckError(PythonSort)"
   ]
  }
 ],
 "metadata": {
  "kernelspec": {
   "display_name": "py_36",
   "language": "python",
   "name": "py_36"
  },
  "language_info": {
   "codemirror_mode": {
    "name": "ipython",
    "version": 3
   },
   "file_extension": ".py",
   "mimetype": "text/x-python",
   "name": "python",
   "nbconvert_exporter": "python",
   "pygments_lexer": "ipython3",
   "version": "3.6.10"
  }
 },
 "nbformat": 4,
 "nbformat_minor": 2
}

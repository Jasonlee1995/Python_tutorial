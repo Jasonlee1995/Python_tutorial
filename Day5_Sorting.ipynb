{
 "cells": [
  {
   "cell_type": "markdown",
   "metadata": {},
   "source": [
    "# Sorting"
   ]
  },
  {
   "cell_type": "markdown",
   "metadata": {},
   "source": [
    "## 1. Algorithm"
   ]
  },
  {
   "cell_type": "markdown",
   "metadata": {},
   "source": [
    "### - Process\n",
    "- 1. Define Problem\n",
    "- 2. Make Algorithm\n",
    "- 3. Debug\n",
    "- 4. Check Complexity\n",
    "\n",
    "### - Complexity\n",
    "- Time complexity\n",
    "- Space complexity\n",
    "\n",
    "### - Notation\n",
    "- Big O notation : asymptotic upper bound\n",
    "- Omega notation : asymptotic lower bound\n",
    "- Seta notation : asymptotic tight bound"
   ]
  },
  {
   "cell_type": "markdown",
   "metadata": {},
   "source": [
    "## 2. Sorting"
   ]
  },
  {
   "cell_type": "markdown",
   "metadata": {},
   "source": [
    "### - Define Problem\n",
    "- Get n numbers and return sorted n numbers in ascending or descending order\n",
    "- For convenience, we will only consider ascending order\n",
    "\n",
    "### - Make Algorithm (1) : Selection Sort\n",
    "- Select minimum value of list\n",
    "\n",
    "|Selection Sort|0|1|2|3|4|5|\n",
    "|:--------------:|-|-|-|-|-|-|\n",
    "|Step 0|6|3|2|4|1|5|\n",
    "|Step 1|***1***|3|2|4|6|5|\n",
    "|Step 2|***1***|***2***|3|4|6|5|\n",
    "|Step 3|***1***|***2***|***3***|4|6|5|\n",
    "|Step 4|***1***|***2***|***3***|***4***|6|5|\n",
    "|Step 5|***1***|***2***|***3***|***4***|***5***|6|\n",
    "|Step 6|***1***|***2***|***3***|***4***|***5***|***6***|\n",
    "\n",
    "\n",
    "### - Make Algorithm (2) : Insertion Sort\n",
    "- For given value and sorted list, insert value in proper index of sorted list\n",
    "\n",
    "|Insertion Sort|0|1|2|3|4|5|\n",
    "|:--------------:|-|-|-|-|-|-|\n",
    "|Step 0|***6***|3|2|4|1|5|\n",
    "|Step 1|***3***|***6***|2|4|1|5|\n",
    "|Step 2|***2***|***3***|***6***|4|1|5|\n",
    "|Step 3|***2***|***3***|***4***|***6***|1|5|\n",
    "|Step 4|***1***|***2***|***3***|***4***|***6***|5|\n",
    "|Step 5|***1***|***2***|***3***|***4***|***5***|***6***|\n",
    "\n",
    "\n",
    "### - Make Algorithm (3) : Bubble Sort\n",
    "- Sequentially swap until sort\n",
    "\n",
    "|Bubble Sort|0|1|2|3|4|5|\n",
    "|:--------------:|-|-|-|-|-|-|\n",
    "|Step 0|6|3|2|4|1|5|\n",
    "|Step 1|3|2|4|1|5|***6***|\n",
    "|Step 2|2|3|1|4|***5***|***6***|\n",
    "|Step 3|2|1|3|***4***|***5***|***6***|\n",
    "|Step 4|1|2|***3***|***4***|***5***|***6***|\n",
    "|Step 5|1|***2***|***3***|***4***|***5***|***6***|\n",
    "|Step 6|***1***|***2***|***3***|***4***|***5***|***6***|\n",
    "\n",
    "\n",
    "### - Make Algorithm (4) : Merge Sort\n",
    "\n",
    "\n",
    "### - Make Algorithm (5) : Heap Sort\n",
    "\n",
    "### - Make Algorithm (6) : Quick Sort"
   ]
  },
  {
   "cell_type": "markdown",
   "metadata": {},
   "source": [
    "## 3. 프로그래머스\n",
    "### [연습문제 : 나누어 떨어지는 숫자 배열](https://programmers.co.kr/learn/courses/30/lessons/12910)  \n",
    "### [연습문제 : 문자열 내 마음대로 정렬하기](https://programmers.co.kr/learn/courses/30/lessons/12915)  \n",
    "### [연습문제 : 문자열 내림차순으로 배치하기](https://programmers.co.kr/learn/courses/30/lessons/12917)\n",
    "### [연습문제 : 정수 내림차순으로 배치하기](https://programmers.co.kr/learn/courses/30/lessons/12933)\n",
    "### [정렬 : K번째수](https://programmers.co.kr/learn/courses/30/lessons/42748)\n",
    "### [탐욕법 : 체육복](https://programmers.co.kr/learn/courses/30/lessons/42862)\n",
    "### [서머코딩/윈터코딩(~2018) : 예산](https://programmers.co.kr/learn/courses/30/lessons/12982)\n",
    "### [2019 KAKAO BLIND RECRUITMENT : 실패율](https://programmers.co.kr/learn/courses/30/lessons/42889)"
   ]
  }
 ],
 "metadata": {
  "kernelspec": {
   "display_name": "py_36",
   "language": "python",
   "name": "py_36"
  },
  "language_info": {
   "codemirror_mode": {
    "name": "ipython",
    "version": 3
   },
   "file_extension": ".py",
   "mimetype": "text/x-python",
   "name": "python",
   "nbconvert_exporter": "python",
   "pygments_lexer": "ipython3",
   "version": "3.6.10"
  }
 },
 "nbformat": 4,
 "nbformat_minor": 2
}

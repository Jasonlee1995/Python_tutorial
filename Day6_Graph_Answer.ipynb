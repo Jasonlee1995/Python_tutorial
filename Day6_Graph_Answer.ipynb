{
 "cells": [
  {
   "cell_type": "markdown",
   "metadata": {},
   "source": [
    "# Graph Answer"
   ]
  },
  {
   "cell_type": "code",
   "execution_count": 1,
   "metadata": {},
   "outputs": [],
   "source": [
    "acyclic_case = [['A', 'B'], ['A', 'C'], ['B', 'D'], ['B', 'E'], ['C', 'F'], ['C', 'G']]\n",
    "cyclic_case = [['A', 'B'], ['B', 'C'], ['B', 'G'], ['C', 'D'], ['G', 'F'], ['G', 'H'], ['D', 'E'], ['F', 'E']]"
   ]
  },
  {
   "cell_type": "markdown",
   "metadata": {},
   "source": [
    "## 1. BFS"
   ]
  },
  {
   "cell_type": "code",
   "execution_count": 2,
   "metadata": {},
   "outputs": [],
   "source": [
    "from collections import deque"
   ]
  },
  {
   "cell_type": "markdown",
   "metadata": {},
   "source": [
    "### 1.1 Matrix"
   ]
  },
  {
   "cell_type": "code",
   "execution_count": 3,
   "metadata": {},
   "outputs": [],
   "source": [
    "def bfs_matrix(test_case):\n",
    "    test_case = sorted(test_case)\n",
    "    vertex = set()\n",
    "    for nodes in test_case:\n",
    "        vertex.update(nodes)\n",
    "    vertex = sorted(vertex)\n",
    "    vertex2int = {vertex[i]:i for i in range(len(vertex))}\n",
    "    int2vertex = {i:vertex[i] for i in range(len(vertex))}\n",
    "    print(vertex)\n",
    "    print(vertex2int)\n",
    "    print(int2vertex)\n",
    "    print()\n",
    "    \n",
    "    matrix = [[0]*len(vertex) for _ in range(len(vertex))]\n",
    "    for node1, node2 in test_case:\n",
    "        matrix[vertex2int[node1]][vertex2int[node2]] = 1\n",
    "        matrix[vertex2int[node2]][vertex2int[node1]] = 1\n",
    "    for i in range(len(matrix)):\n",
    "        print(matrix[i])\n",
    "    print()\n",
    "    \n",
    "    path_list = list()\n",
    "    queue = deque([[vertex2int['A']]])\n",
    "    while queue:\n",
    "        path = queue.popleft()\n",
    "        path_list.append(path)\n",
    "        for i in range(len(matrix[path[-1]])):\n",
    "            if (matrix[path[-1]][i] == 1) and (i not in path):\n",
    "                queue.append(path+[i])\n",
    "    \n",
    "    answer = list()\n",
    "    for path in path_list:\n",
    "        answer.append([int2vertex[i] for i in path])\n",
    "    return answer"
   ]
  },
  {
   "cell_type": "code",
   "execution_count": 4,
   "metadata": {},
   "outputs": [
    {
     "name": "stdout",
     "output_type": "stream",
     "text": [
      "['A', 'B', 'C', 'D', 'E', 'F', 'G']\n",
      "{'A': 0, 'B': 1, 'C': 2, 'D': 3, 'E': 4, 'F': 5, 'G': 6}\n",
      "{0: 'A', 1: 'B', 2: 'C', 3: 'D', 4: 'E', 5: 'F', 6: 'G'}\n",
      "\n",
      "[0, 1, 1, 0, 0, 0, 0]\n",
      "[1, 0, 0, 1, 1, 0, 0]\n",
      "[1, 0, 0, 0, 0, 1, 1]\n",
      "[0, 1, 0, 0, 0, 0, 0]\n",
      "[0, 1, 0, 0, 0, 0, 0]\n",
      "[0, 0, 1, 0, 0, 0, 0]\n",
      "[0, 0, 1, 0, 0, 0, 0]\n",
      "\n"
     ]
    },
    {
     "data": {
      "text/plain": [
       "[['A'],\n",
       " ['A', 'B'],\n",
       " ['A', 'C'],\n",
       " ['A', 'B', 'D'],\n",
       " ['A', 'B', 'E'],\n",
       " ['A', 'C', 'F'],\n",
       " ['A', 'C', 'G']]"
      ]
     },
     "execution_count": 4,
     "metadata": {},
     "output_type": "execute_result"
    }
   ],
   "source": [
    "bfs_matrix(acyclic_case)"
   ]
  },
  {
   "cell_type": "code",
   "execution_count": 5,
   "metadata": {},
   "outputs": [
    {
     "name": "stdout",
     "output_type": "stream",
     "text": [
      "['A', 'B', 'C', 'D', 'E', 'F', 'G', 'H']\n",
      "{'A': 0, 'B': 1, 'C': 2, 'D': 3, 'E': 4, 'F': 5, 'G': 6, 'H': 7}\n",
      "{0: 'A', 1: 'B', 2: 'C', 3: 'D', 4: 'E', 5: 'F', 6: 'G', 7: 'H'}\n",
      "\n",
      "[0, 1, 0, 0, 0, 0, 0, 0]\n",
      "[1, 0, 1, 0, 0, 0, 1, 0]\n",
      "[0, 1, 0, 1, 0, 0, 0, 0]\n",
      "[0, 0, 1, 0, 1, 0, 0, 0]\n",
      "[0, 0, 0, 1, 0, 1, 0, 0]\n",
      "[0, 0, 0, 0, 1, 0, 1, 0]\n",
      "[0, 1, 0, 0, 0, 1, 0, 1]\n",
      "[0, 0, 0, 0, 0, 0, 1, 0]\n",
      "\n"
     ]
    },
    {
     "data": {
      "text/plain": [
       "[['A'],\n",
       " ['A', 'B'],\n",
       " ['A', 'B', 'C'],\n",
       " ['A', 'B', 'G'],\n",
       " ['A', 'B', 'C', 'D'],\n",
       " ['A', 'B', 'G', 'F'],\n",
       " ['A', 'B', 'G', 'H'],\n",
       " ['A', 'B', 'C', 'D', 'E'],\n",
       " ['A', 'B', 'G', 'F', 'E'],\n",
       " ['A', 'B', 'C', 'D', 'E', 'F'],\n",
       " ['A', 'B', 'G', 'F', 'E', 'D'],\n",
       " ['A', 'B', 'C', 'D', 'E', 'F', 'G'],\n",
       " ['A', 'B', 'G', 'F', 'E', 'D', 'C'],\n",
       " ['A', 'B', 'C', 'D', 'E', 'F', 'G', 'H']]"
      ]
     },
     "execution_count": 5,
     "metadata": {},
     "output_type": "execute_result"
    }
   ],
   "source": [
    "bfs_matrix(cyclic_case)"
   ]
  },
  {
   "cell_type": "markdown",
   "metadata": {},
   "source": [
    "### 1.2 Dictionary + List"
   ]
  },
  {
   "cell_type": "code",
   "execution_count": 6,
   "metadata": {},
   "outputs": [],
   "source": [
    "def bfs_dic(test_case):\n",
    "    test_case = sorted(test_case)\n",
    "    vertex = set()\n",
    "    for nodes in test_case:\n",
    "        vertex.update(nodes)\n",
    "    vertex = sorted(vertex)\n",
    "    vertex2int = {vertex[i]:i for i in range(len(vertex))}\n",
    "    int2vertex = {i:vertex[i] for i in range(len(vertex))}\n",
    "    print(vertex)\n",
    "    print(vertex2int)\n",
    "    print(int2vertex)\n",
    "    print()\n",
    "    \n",
    "    edge = dict()\n",
    "    for node1, node2 in test_case:\n",
    "        if vertex2int[node1] not in edge: edge[vertex2int[node1]] = list()\n",
    "        if vertex2int[node2] not in edge: edge[vertex2int[node2]] = list()\n",
    "        edge[vertex2int[node1]].append(vertex2int[node2])\n",
    "        edge[vertex2int[node2]].append(vertex2int[node1])\n",
    "    print(edge)\n",
    "    print()\n",
    "    \n",
    "    path_list = list()\n",
    "    queue = deque([[vertex2int['A']]])\n",
    "    while queue:\n",
    "        path = queue.popleft()\n",
    "        path_list.append(path)\n",
    "        for node in edge[path[-1]]:\n",
    "            if node not in path:\n",
    "                queue.append(path+[node])\n",
    "\n",
    "    answer = list()\n",
    "    for path in path_list:\n",
    "        answer.append([int2vertex[i] for i in path])\n",
    "    return answer"
   ]
  },
  {
   "cell_type": "code",
   "execution_count": 7,
   "metadata": {},
   "outputs": [
    {
     "name": "stdout",
     "output_type": "stream",
     "text": [
      "['A', 'B', 'C', 'D', 'E', 'F', 'G']\n",
      "{'A': 0, 'B': 1, 'C': 2, 'D': 3, 'E': 4, 'F': 5, 'G': 6}\n",
      "{0: 'A', 1: 'B', 2: 'C', 3: 'D', 4: 'E', 5: 'F', 6: 'G'}\n",
      "\n",
      "{0: [1, 2], 1: [0, 3, 4], 2: [0, 5, 6], 3: [1], 4: [1], 5: [2], 6: [2]}\n",
      "\n"
     ]
    },
    {
     "data": {
      "text/plain": [
       "[['A'],\n",
       " ['A', 'B'],\n",
       " ['A', 'C'],\n",
       " ['A', 'B', 'D'],\n",
       " ['A', 'B', 'E'],\n",
       " ['A', 'C', 'F'],\n",
       " ['A', 'C', 'G']]"
      ]
     },
     "execution_count": 7,
     "metadata": {},
     "output_type": "execute_result"
    }
   ],
   "source": [
    "bfs_dic(acyclic_case)"
   ]
  },
  {
   "cell_type": "code",
   "execution_count": 8,
   "metadata": {},
   "outputs": [
    {
     "name": "stdout",
     "output_type": "stream",
     "text": [
      "['A', 'B', 'C', 'D', 'E', 'F', 'G', 'H']\n",
      "{'A': 0, 'B': 1, 'C': 2, 'D': 3, 'E': 4, 'F': 5, 'G': 6, 'H': 7}\n",
      "{0: 'A', 1: 'B', 2: 'C', 3: 'D', 4: 'E', 5: 'F', 6: 'G', 7: 'H'}\n",
      "\n",
      "{0: [1], 1: [0, 2, 6], 2: [1, 3], 6: [1, 5, 7], 3: [2, 4], 4: [3, 5], 5: [4, 6], 7: [6]}\n",
      "\n"
     ]
    },
    {
     "data": {
      "text/plain": [
       "[['A'],\n",
       " ['A', 'B'],\n",
       " ['A', 'B', 'C'],\n",
       " ['A', 'B', 'G'],\n",
       " ['A', 'B', 'C', 'D'],\n",
       " ['A', 'B', 'G', 'F'],\n",
       " ['A', 'B', 'G', 'H'],\n",
       " ['A', 'B', 'C', 'D', 'E'],\n",
       " ['A', 'B', 'G', 'F', 'E'],\n",
       " ['A', 'B', 'C', 'D', 'E', 'F'],\n",
       " ['A', 'B', 'G', 'F', 'E', 'D'],\n",
       " ['A', 'B', 'C', 'D', 'E', 'F', 'G'],\n",
       " ['A', 'B', 'G', 'F', 'E', 'D', 'C'],\n",
       " ['A', 'B', 'C', 'D', 'E', 'F', 'G', 'H']]"
      ]
     },
     "execution_count": 8,
     "metadata": {},
     "output_type": "execute_result"
    }
   ],
   "source": [
    "bfs_dic(cyclic_case)"
   ]
  },
  {
   "cell_type": "markdown",
   "metadata": {},
   "source": [
    "### 1.3 Class"
   ]
  },
  {
   "cell_type": "code",
   "execution_count": 9,
   "metadata": {},
   "outputs": [],
   "source": [
    "class Node():\n",
    "    def __init__(self, val):\n",
    "        self.val = val\n",
    "        self.neighbors = list()\n",
    "        \n",
    "class Graph():\n",
    "    def __init__(self, node_info):\n",
    "        self.node_info = {node : Node(node) for node in node_info}\n",
    "    \n",
    "    def build(self, connection_info):\n",
    "        for node1, node2 in connection_info:\n",
    "            self.node_info[node1].neighbors.append(self.node_info[node2])\n",
    "            self.node_info[node2].neighbors.append(self.node_info[node1])\n",
    "            \n",
    "def bfs_class(test_case):\n",
    "    test_case = sorted(test_case)\n",
    "    vertex = set()\n",
    "    for nodes in test_case:\n",
    "        vertex.update(nodes)\n",
    "    vertex = sorted(vertex)\n",
    "    \n",
    "    graph = Graph(vertex)\n",
    "    graph.build(test_case)\n",
    "    \n",
    "    answer = list()\n",
    "    queue = deque([['A']])\n",
    "    while queue:\n",
    "        path = queue.popleft()\n",
    "        answer.append(path)\n",
    "        for node in graph.node_info[path[-1]].neighbors:\n",
    "            if node.val not in path:\n",
    "                queue.append(path+[node.val])\n",
    "    return answer"
   ]
  },
  {
   "cell_type": "code",
   "execution_count": 10,
   "metadata": {},
   "outputs": [
    {
     "data": {
      "text/plain": [
       "[['A'],\n",
       " ['A', 'B'],\n",
       " ['A', 'C'],\n",
       " ['A', 'B', 'D'],\n",
       " ['A', 'B', 'E'],\n",
       " ['A', 'C', 'F'],\n",
       " ['A', 'C', 'G']]"
      ]
     },
     "execution_count": 10,
     "metadata": {},
     "output_type": "execute_result"
    }
   ],
   "source": [
    "bfs_class(acyclic_case)"
   ]
  },
  {
   "cell_type": "code",
   "execution_count": 11,
   "metadata": {},
   "outputs": [
    {
     "data": {
      "text/plain": [
       "[['A'],\n",
       " ['A', 'B'],\n",
       " ['A', 'B', 'C'],\n",
       " ['A', 'B', 'G'],\n",
       " ['A', 'B', 'C', 'D'],\n",
       " ['A', 'B', 'G', 'F'],\n",
       " ['A', 'B', 'G', 'H'],\n",
       " ['A', 'B', 'C', 'D', 'E'],\n",
       " ['A', 'B', 'G', 'F', 'E'],\n",
       " ['A', 'B', 'C', 'D', 'E', 'F'],\n",
       " ['A', 'B', 'G', 'F', 'E', 'D'],\n",
       " ['A', 'B', 'C', 'D', 'E', 'F', 'G'],\n",
       " ['A', 'B', 'G', 'F', 'E', 'D', 'C'],\n",
       " ['A', 'B', 'C', 'D', 'E', 'F', 'G', 'H']]"
      ]
     },
     "execution_count": 11,
     "metadata": {},
     "output_type": "execute_result"
    }
   ],
   "source": [
    "bfs_class(cyclic_case)"
   ]
  },
  {
   "cell_type": "markdown",
   "metadata": {},
   "source": [
    "## 2. DFS"
   ]
  },
  {
   "cell_type": "markdown",
   "metadata": {},
   "source": [
    "### 2.1 Matrix"
   ]
  },
  {
   "cell_type": "code",
   "execution_count": 12,
   "metadata": {},
   "outputs": [],
   "source": [
    "def dfs_matrix(test_case):\n",
    "    test_case = sorted(test_case, reverse=True)\n",
    "    vertex = set()\n",
    "    for nodes in test_case:\n",
    "        vertex.update(nodes)\n",
    "    vertex = sorted(vertex)\n",
    "    vertex2int = {vertex[i]:i for i in range(len(vertex))}\n",
    "    int2vertex = {i:vertex[i] for i in range(len(vertex))}\n",
    "    print(vertex)\n",
    "    print(vertex2int)\n",
    "    print(int2vertex)\n",
    "    print()\n",
    "    \n",
    "    matrix = [[0]*len(vertex) for _ in range(len(vertex))]\n",
    "    for node1, node2 in test_case:\n",
    "        matrix[vertex2int[node1]][vertex2int[node2]] = 1\n",
    "        matrix[vertex2int[node2]][vertex2int[node1]] = 1\n",
    "    for i in range(len(matrix)):\n",
    "        print(matrix[i])\n",
    "    print()\n",
    "    \n",
    "    path_list = list()\n",
    "    stack = [[vertex2int['A']]]\n",
    "    while stack:\n",
    "        path = stack.pop()\n",
    "        path_list.append(path)\n",
    "        for i in range(len(matrix[path[-1]])-1, -1, -1):\n",
    "            if (matrix[path[-1]][i] == 1) and (i not in path):\n",
    "                stack.append(path+[i])\n",
    "            \n",
    "    answer = list()\n",
    "    for path in path_list:\n",
    "        answer.append([int2vertex[i] for i in path])\n",
    "    return answer"
   ]
  },
  {
   "cell_type": "code",
   "execution_count": 13,
   "metadata": {},
   "outputs": [
    {
     "name": "stdout",
     "output_type": "stream",
     "text": [
      "['A', 'B', 'C', 'D', 'E', 'F', 'G']\n",
      "{'A': 0, 'B': 1, 'C': 2, 'D': 3, 'E': 4, 'F': 5, 'G': 6}\n",
      "{0: 'A', 1: 'B', 2: 'C', 3: 'D', 4: 'E', 5: 'F', 6: 'G'}\n",
      "\n",
      "[0, 1, 1, 0, 0, 0, 0]\n",
      "[1, 0, 0, 1, 1, 0, 0]\n",
      "[1, 0, 0, 0, 0, 1, 1]\n",
      "[0, 1, 0, 0, 0, 0, 0]\n",
      "[0, 1, 0, 0, 0, 0, 0]\n",
      "[0, 0, 1, 0, 0, 0, 0]\n",
      "[0, 0, 1, 0, 0, 0, 0]\n",
      "\n"
     ]
    },
    {
     "data": {
      "text/plain": [
       "[['A'],\n",
       " ['A', 'B'],\n",
       " ['A', 'B', 'D'],\n",
       " ['A', 'B', 'E'],\n",
       " ['A', 'C'],\n",
       " ['A', 'C', 'F'],\n",
       " ['A', 'C', 'G']]"
      ]
     },
     "execution_count": 13,
     "metadata": {},
     "output_type": "execute_result"
    }
   ],
   "source": [
    "dfs_matrix(acyclic_case)"
   ]
  },
  {
   "cell_type": "code",
   "execution_count": 14,
   "metadata": {},
   "outputs": [
    {
     "name": "stdout",
     "output_type": "stream",
     "text": [
      "['A', 'B', 'C', 'D', 'E', 'F', 'G', 'H']\n",
      "{'A': 0, 'B': 1, 'C': 2, 'D': 3, 'E': 4, 'F': 5, 'G': 6, 'H': 7}\n",
      "{0: 'A', 1: 'B', 2: 'C', 3: 'D', 4: 'E', 5: 'F', 6: 'G', 7: 'H'}\n",
      "\n",
      "[0, 1, 0, 0, 0, 0, 0, 0]\n",
      "[1, 0, 1, 0, 0, 0, 1, 0]\n",
      "[0, 1, 0, 1, 0, 0, 0, 0]\n",
      "[0, 0, 1, 0, 1, 0, 0, 0]\n",
      "[0, 0, 0, 1, 0, 1, 0, 0]\n",
      "[0, 0, 0, 0, 1, 0, 1, 0]\n",
      "[0, 1, 0, 0, 0, 1, 0, 1]\n",
      "[0, 0, 0, 0, 0, 0, 1, 0]\n",
      "\n"
     ]
    },
    {
     "data": {
      "text/plain": [
       "[['A'],\n",
       " ['A', 'B'],\n",
       " ['A', 'B', 'C'],\n",
       " ['A', 'B', 'C', 'D'],\n",
       " ['A', 'B', 'C', 'D', 'E'],\n",
       " ['A', 'B', 'C', 'D', 'E', 'F'],\n",
       " ['A', 'B', 'C', 'D', 'E', 'F', 'G'],\n",
       " ['A', 'B', 'C', 'D', 'E', 'F', 'G', 'H'],\n",
       " ['A', 'B', 'G'],\n",
       " ['A', 'B', 'G', 'F'],\n",
       " ['A', 'B', 'G', 'F', 'E'],\n",
       " ['A', 'B', 'G', 'F', 'E', 'D'],\n",
       " ['A', 'B', 'G', 'F', 'E', 'D', 'C'],\n",
       " ['A', 'B', 'G', 'H']]"
      ]
     },
     "execution_count": 14,
     "metadata": {},
     "output_type": "execute_result"
    }
   ],
   "source": [
    "dfs_matrix(cyclic_case)"
   ]
  },
  {
   "cell_type": "markdown",
   "metadata": {},
   "source": [
    "### 2.2 Dictionary + List"
   ]
  },
  {
   "cell_type": "code",
   "execution_count": 15,
   "metadata": {},
   "outputs": [],
   "source": [
    "def dfs_dic(test_case):\n",
    "    test_case = sorted(test_case, reverse=True)\n",
    "    vertex = set()\n",
    "    for nodes in test_case:\n",
    "        vertex.update(nodes)\n",
    "    vertex = sorted(vertex)\n",
    "    vertex2int = {vertex[i]:i for i in range(len(vertex))}\n",
    "    int2vertex = {i:vertex[i] for i in range(len(vertex))}\n",
    "    print(vertex)\n",
    "    print(vertex2int)\n",
    "    print(int2vertex)\n",
    "    print()\n",
    "    \n",
    "    edge = dict()\n",
    "    for node1, node2 in test_case:\n",
    "        if vertex2int[node1] not in edge: edge[vertex2int[node1]] = list()\n",
    "        if vertex2int[node2] not in edge: edge[vertex2int[node2]] = list()\n",
    "        edge[vertex2int[node1]].append(vertex2int[node2])\n",
    "        edge[vertex2int[node2]].append(vertex2int[node1])\n",
    "    print(edge)\n",
    "    print()\n",
    "    \n",
    "    path_list = list()\n",
    "    stack = [[vertex2int['A']]]\n",
    "    while stack:\n",
    "        path = stack.pop()\n",
    "        path_list.append(path)\n",
    "        for node in edge[path[-1]]:\n",
    "            if node not in path:\n",
    "                stack.append(path+[node])\n",
    "            \n",
    "    answer = list()\n",
    "    for path in path_list:\n",
    "        answer.append([int2vertex[i] for i in path])\n",
    "    return answer"
   ]
  },
  {
   "cell_type": "code",
   "execution_count": 16,
   "metadata": {},
   "outputs": [
    {
     "name": "stdout",
     "output_type": "stream",
     "text": [
      "['A', 'B', 'C', 'D', 'E', 'F', 'G']\n",
      "{'A': 0, 'B': 1, 'C': 2, 'D': 3, 'E': 4, 'F': 5, 'G': 6}\n",
      "{0: 'A', 1: 'B', 2: 'C', 3: 'D', 4: 'E', 5: 'F', 6: 'G'}\n",
      "\n",
      "{2: [6, 5, 0], 6: [2], 5: [2], 1: [4, 3, 0], 4: [1], 3: [1], 0: [2, 1]}\n",
      "\n"
     ]
    },
    {
     "data": {
      "text/plain": [
       "[['A'],\n",
       " ['A', 'B'],\n",
       " ['A', 'B', 'D'],\n",
       " ['A', 'B', 'E'],\n",
       " ['A', 'C'],\n",
       " ['A', 'C', 'F'],\n",
       " ['A', 'C', 'G']]"
      ]
     },
     "execution_count": 16,
     "metadata": {},
     "output_type": "execute_result"
    }
   ],
   "source": [
    "dfs_dic(acyclic_case)"
   ]
  },
  {
   "cell_type": "code",
   "execution_count": 17,
   "metadata": {},
   "outputs": [
    {
     "name": "stdout",
     "output_type": "stream",
     "text": [
      "['A', 'B', 'C', 'D', 'E', 'F', 'G', 'H']\n",
      "{'A': 0, 'B': 1, 'C': 2, 'D': 3, 'E': 4, 'F': 5, 'G': 6, 'H': 7}\n",
      "{0: 'A', 1: 'B', 2: 'C', 3: 'D', 4: 'E', 5: 'F', 6: 'G', 7: 'H'}\n",
      "\n",
      "{6: [7, 5, 1], 7: [6], 5: [6, 4], 4: [5, 3], 3: [4, 2], 2: [3, 1], 1: [6, 2, 0], 0: [1]}\n",
      "\n"
     ]
    },
    {
     "data": {
      "text/plain": [
       "[['A'],\n",
       " ['A', 'B'],\n",
       " ['A', 'B', 'C'],\n",
       " ['A', 'B', 'C', 'D'],\n",
       " ['A', 'B', 'C', 'D', 'E'],\n",
       " ['A', 'B', 'C', 'D', 'E', 'F'],\n",
       " ['A', 'B', 'C', 'D', 'E', 'F', 'G'],\n",
       " ['A', 'B', 'C', 'D', 'E', 'F', 'G', 'H'],\n",
       " ['A', 'B', 'G'],\n",
       " ['A', 'B', 'G', 'F'],\n",
       " ['A', 'B', 'G', 'F', 'E'],\n",
       " ['A', 'B', 'G', 'F', 'E', 'D'],\n",
       " ['A', 'B', 'G', 'F', 'E', 'D', 'C'],\n",
       " ['A', 'B', 'G', 'H']]"
      ]
     },
     "execution_count": 17,
     "metadata": {},
     "output_type": "execute_result"
    }
   ],
   "source": [
    "dfs_dic(cyclic_case)"
   ]
  },
  {
   "cell_type": "markdown",
   "metadata": {},
   "source": [
    "### 2.3 Class"
   ]
  },
  {
   "cell_type": "code",
   "execution_count": 18,
   "metadata": {},
   "outputs": [],
   "source": [
    "class Node():\n",
    "    def __init__(self, val):\n",
    "        self.val = val\n",
    "        self.neighbors = list()\n",
    "        \n",
    "class Graph():\n",
    "    def __init__(self, node_info):\n",
    "        self.node_info = {node : Node(node) for node in node_info}\n",
    "    \n",
    "    def build(self, connection_info):\n",
    "        for node1, node2 in connection_info:\n",
    "            self.node_info[node1].neighbors.append(self.node_info[node2])\n",
    "            self.node_info[node2].neighbors.append(self.node_info[node1])\n",
    "            \n",
    "def dfs_class(test_case):\n",
    "    test_case = sorted(test_case, reverse=True)\n",
    "    vertex = set()\n",
    "    for nodes in test_case:\n",
    "        vertex.update(nodes)\n",
    "    vertex = sorted(vertex)\n",
    "    \n",
    "    graph = Graph(vertex)\n",
    "    graph.build(test_case)\n",
    "    \n",
    "    answer = list()\n",
    "    stack = [['A']]\n",
    "    while stack:\n",
    "        path = stack.pop()\n",
    "        answer.append(path)\n",
    "        for node in graph.node_info[path[-1]].neighbors:\n",
    "            if node.val not in path:\n",
    "                stack.append(path+[node.val])\n",
    "    return answer"
   ]
  },
  {
   "cell_type": "code",
   "execution_count": 19,
   "metadata": {},
   "outputs": [
    {
     "data": {
      "text/plain": [
       "[['A'],\n",
       " ['A', 'B'],\n",
       " ['A', 'B', 'D'],\n",
       " ['A', 'B', 'E'],\n",
       " ['A', 'C'],\n",
       " ['A', 'C', 'F'],\n",
       " ['A', 'C', 'G']]"
      ]
     },
     "execution_count": 19,
     "metadata": {},
     "output_type": "execute_result"
    }
   ],
   "source": [
    "dfs_class(acyclic_case)"
   ]
  },
  {
   "cell_type": "code",
   "execution_count": 20,
   "metadata": {},
   "outputs": [
    {
     "data": {
      "text/plain": [
       "[['A'],\n",
       " ['A', 'B'],\n",
       " ['A', 'B', 'C'],\n",
       " ['A', 'B', 'C', 'D'],\n",
       " ['A', 'B', 'C', 'D', 'E'],\n",
       " ['A', 'B', 'C', 'D', 'E', 'F'],\n",
       " ['A', 'B', 'C', 'D', 'E', 'F', 'G'],\n",
       " ['A', 'B', 'C', 'D', 'E', 'F', 'G', 'H'],\n",
       " ['A', 'B', 'G'],\n",
       " ['A', 'B', 'G', 'F'],\n",
       " ['A', 'B', 'G', 'F', 'E'],\n",
       " ['A', 'B', 'G', 'F', 'E', 'D'],\n",
       " ['A', 'B', 'G', 'F', 'E', 'D', 'C'],\n",
       " ['A', 'B', 'G', 'H']]"
      ]
     },
     "execution_count": 20,
     "metadata": {},
     "output_type": "execute_result"
    }
   ],
   "source": [
    "dfs_class(cyclic_case)"
   ]
  }
 ],
 "metadata": {
  "kernelspec": {
   "display_name": "py_36",
   "language": "python",
   "name": "py_36"
  },
  "language_info": {
   "codemirror_mode": {
    "name": "ipython",
    "version": 3
   },
   "file_extension": ".py",
   "mimetype": "text/x-python",
   "name": "python",
   "nbconvert_exporter": "python",
   "pygments_lexer": "ipython3",
   "version": "3.6.10"
  }
 },
 "nbformat": 4,
 "nbformat_minor": 2
}
